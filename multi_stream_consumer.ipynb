{
 "cells": [
  {
   "cell_type": "code",
   "execution_count": null,
   "metadata": {},
   "outputs": [],
   "source": [
    "import json\n",
    "from kafka3 import KafkaConsumer\n",
    "\n",
    "# Define topic and Kafka broker\n",
    "topic = \"violations\"\n",
    "kafka_server = \"172.17.0.1:9092\" #put your own kafka ip here\n",
    "\n",
    "# Create Kafka consumer\n",
    "consumer = KafkaConsumer(\n",
    "    topic,\n",
    "    bootstrap_servers=[kafka_server],\n",
    "    auto_offset_reset='earliest',  # start from the earliest message\n",
    "    enable_auto_commit=True,\n",
    "    group_id=\"violation-consumer-group\",\n",
    "    value_deserializer=lambda m: json.loads(m.decode('utf-8'))\n",
    ")\n",
    "\n",
    "print(f\"Consuming from topic: {topic} on {kafka_server}\")\n",
    "\n",
    "# Consume messages in a loop\n",
    "try:\n",
    "    for message in consumer:\n",
    "        event = message.value\n",
    "        print(f\"Message received: {event}\")\n",
    "except KeyboardInterrupt:\n",
    "    print(\"Stopped by user\")\n",
    "finally:\n",
    "    consumer.close()\n"
   ]
  }
 ],
 "metadata": {
  "language_info": {
   "name": "python"
  }
 },
 "nbformat": 4,
 "nbformat_minor": 2
}
