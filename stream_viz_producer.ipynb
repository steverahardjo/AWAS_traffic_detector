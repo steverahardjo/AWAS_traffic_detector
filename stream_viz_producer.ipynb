{
 "cells": [
  {
   "cell_type": "code",
   "execution_count": null,
   "id": "8ce938e4",
   "metadata": {},
   "outputs": [],
   "source": [
    "\n",
    "from pymongo import MongoClient\n",
    "from kafka import KafkaProducer\n",
    "import json\n",
    "from bson.json_util import dumps\n",
    "\n",
    "\"\"\"\n",
    "KAFKA PRODUCER FOR STREAMING VISUALIZATION\n",
    "As a part of the reuquirement, we need to implement a real-time kafka producer that detect\n",
    "everytime a new nput is added into our mongoDb violation Colection from the previous streaming proccess we \n",
    "implemented previously. This are done through$watch operation in mongoDB on any insert operation being triggered\n",
    "when that happen, we pass it to the consumer which are connected to the real-time matplotlib visualization\n",
    "\"\"\"\n",
    "\n",
    "mongo_client = MongoClient(\"172.27.65.143:27017\")\n",
    "db = mongo_client[\"fit3182_db\"]\n",
    "collection = db[\"violations\"]\n",
    "\n",
    "# Kafka producer setup\n",
    "producer = KafkaProducer(\n",
    "    bootstrap_servers=\"172.17.0.1:9092\",\n",
    "    value_serializer=lambda v: json.dumps(v).encode('utf-8')\n",
    ")\n",
    "\n",
    "# Stream topic for streaming viz\n",
    "stream_topic = \"mongo_plot_stream\"\n",
    "\n",
    "# Start watching for new inserts from DbWriter\n",
    "try:\n",
    "    with collection.watch([{\"$match\": {\"operationType\": \"insert\"}}]) as stream:\n",
    "        print(\"📡 Streaming new data inserted via DbWriter...\")\n",
    "        for change in stream:\n",
    "            full_doc = change[\"fullDocument\"]\n",
    "            producer.send(stream_topic, full_doc)\n",
    "            print(f\"✅ Sent to Kafka ({stream_topic}): {full_doc}\")\n",
    "except Exception as e:\n",
    "    print(\"Error:\", e)\n",
    "finally:\n",
    "    producer.flush()\n",
    "    producer.close()"
   ]
  }
 ],
 "metadata": {
  "language_info": {
   "name": "python"
  }
 },
 "nbformat": 4,
 "nbformat_minor": 5
}
