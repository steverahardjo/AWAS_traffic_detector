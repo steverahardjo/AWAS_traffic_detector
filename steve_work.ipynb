{
 "cells": [
  {
   "cell_type": "code",
   "execution_count": 1,
   "metadata": {},
   "outputs": [],
   "source": [
    "from Operations import SparkInst\n",
    "from pyspark.sql.functions import udf, col\n",
    "from pyspark.sql.types import StringType"
   ]
  },
  {
   "cell_type": "code",
   "execution_count": 3,
   "metadata": {},
   "outputs": [],
   "source": [
    "spark_job=SparkInst(\"AWAS SYSTEM\", 5, \"violations\")\n",
    "stream_a=spark_job.attach_kafka_stream(\"a\", \"9092\", \"5 minutes\")\n",
    "stream_b=spark_job.attach_kafka_stream(\"b\", \"9092\", \"5 minutes\")\n",
    "stream_b=spark_job.attach_kafka_stream(\"c\", \"9092\", \"5 minutes\")"
   ]
  },
  {
   "cell_type": "code",
   "execution_count": 7,
   "metadata": {},
   "outputs": [
    {
     "name": "stdout",
     "output_type": "stream",
     "text": [
      "7\n"
     ]
    }
   ],
   "source": []
  },
  {
   "cell_type": "code",
   "execution_count": null,
   "metadata": {},
   "outputs": [],
   "source": [
    "\n",
    "\n",
    "# Assuming SparkInst is your class managing the Spark session and streams\n",
    "spark_job = SparkInst(\"AWAS SYSTEM\", 5, \"violations\")\n",
    "\n",
    "# Step 1: Attach your Kafka streams\n",
    "stream_a = spark_job.attach_kafka_stream(\"a\", \"9092\", \"5 minutes\")\n",
    "stream_b = spark_job.attach_kafka_stream(\"b\", \"9092\", \"5 minutes\")\n",
    "stream_c = spark_job.attach_kafka_stream(\"c\", \"9092\", \"5 minutes\")  # Fixed variable name from your snippet\n",
    "\n",
    "# Step 2: Load Mongo data into Pandas, convert to Spark DF\n",
    "import pandas as pd\n",
    "from pymongo import MongoClient\n",
    "\n",
    "client = MongoClient(\"mongodb://localhost:27017\")\n",
    "db = client[\"fit3182_db\"]\n",
    "coll = db[\"vehicle\"]\n",
    "\n",
    "mongo_docs = list(coll.find())\n",
    "df_pd = pd.DataFrame(mongo_docs)\n",
    "if '_id' in df_pd.columns:\n",
    "    df_pd.drop(columns=['_id'], inplace=True)\n",
    "spark_df = spark_job.get_session().createDataFrame(df_pd)\n",
    "\n",
    "# Step 3: Broadcast your speed limit map\n",
    "speed_limit_map = {row['camera_id']: row['speed_limit'] for row in spark_df.select(\"camera_id\", \"speed_limit\").collect()}\n",
    "broadcast_map = spark_job.essentialData_broadcast(spark_df)\n",
    "\n",
    "# Step 4: Define your UDF using broadcast variable\n",
    "def mark_speeding(camera_id, speed):\n",
    "    limit = broadcast_map.value.get(camera_id)\n",
    "    if limit is None:\n",
    "        return \"UNKNOWN\"\n",
    "    return \"INSTANT_VIOLATION\" if speed > limit else None\n",
    "\n",
    "speeding_udf = udf(mark_speeding, StringType())\n",
    "\n",
    "# Step 5: Apply UDF to each streaming dataframe\n",
    "def add_speed_flag(df):\n",
    "    return df.withColumn(\"speed_flag\", speeding_udf(col(\"camera_id\"), col(\"speed\")))\n",
    "\n",
    "stream_a_flagged = add_speed_flag(stream_a)\n",
    "stream_b_flagged = add_speed_flag(stream_b)\n",
    "stream_c_flagged = add_speed_flag(stream_c)\n",
    "\n",
    "stream_a_flagged.join()\n",
    "\n",
    "\n",
    "\n",
    "\n"
   ]
  },
  {
   "cell_type": "code",
   "execution_count": null,
   "metadata": {},
   "outputs": [],
   "source": [
    "spark_job.essentialData_broadcast()"
   ]
  }
 ],
 "metadata": {
  "kernelspec": {
   "display_name": "Python 3 (ipykernel)",
   "language": "python",
   "name": "python3"
  },
  "language_info": {
   "codemirror_mode": {
    "name": "ipython",
    "version": 3
   },
   "file_extension": ".py",
   "mimetype": "text/x-python",
   "name": "python",
   "nbconvert_exporter": "python",
   "pygments_lexer": "ipython3",
   "version": "3.8.16"
  }
 },
 "nbformat": 4,
 "nbformat_minor": 2
}
