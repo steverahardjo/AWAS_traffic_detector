{
 "cells": [
  {
   "cell_type": "code",
   "execution_count": 8,
   "metadata": {},
   "outputs": [],
   "source": [
    "import sys\n",
    "import os\n",
    "# add the folder where util.py lives\n",
    "sys.path.append(os.path.join(os.getcwd(), 'fit3182-a2'))\n",
    "from util import kafkaProducer"
   ]
  },
  {
   "cell_type": "code",
   "execution_count": 9,
   "metadata": {},
   "outputs": [
    {
     "name": "stdout",
     "output_type": "stream",
     "text": [
      "[INFO] Successfully loaded data from data/camera_event_b.csv\n",
      "print 172.17.0.1:9092\n",
      "172.17.0.1:9092\n",
      "[INFO] Publishing batch #1 (5 records)...\n",
      "[INFO] Batch #1 sent. Sleeping 5s...\n",
      "[DATA] Batch #1:\n",
      "                               event_id  batch_id car_plate  camera_id  \\\n",
      "0  b5b7dae7-3bf9-4f75-aea8-398d3bde3a41         1   CJW 924          2   \n",
      "1  1649c03b-cd6f-47bd-b4f2-c44fcf60524d         1    CZ 592          2   \n",
      "2  a9c6a4b7-a6b6-4bd7-9719-88bd895814f4         1   UTT 229          2   \n",
      "3  4e13ec51-02db-442c-b7aa-3a2050dd1ad1         1   WA 0712          2   \n",
      "4  74248dd9-c9f8-48d2-94fb-dc5610a0f735         1      AH 8          2   \n",
      "\n",
      "                   timestamp  speed_reading  \n",
      "0 2024-01-01 08:00:26.029536          156.8  \n",
      "1 2024-01-01 08:00:26.729115          163.9  \n",
      "2 2024-01-01 08:00:26.887170          134.1  \n",
      "3 2024-01-01 08:00:27.601617          133.8  \n",
      "4 2024-01-01 08:00:28.125701          158.9  \n",
      "\n"
     ]
    },
    {
     "ename": "KeyboardInterrupt",
     "evalue": "",
     "output_type": "error",
     "traceback": [
      "\u001b[0;31m---------------------------------------------------------------------------\u001b[0m",
      "\u001b[0;31mKeyboardInterrupt\u001b[0m                         Traceback (most recent call last)",
      "Cell \u001b[0;32mIn[9], line 8\u001b[0m\n\u001b[1;32m      5\u001b[0m batch_interval\u001b[38;5;241m=\u001b[39m\u001b[38;5;241m5\u001b[39m\n\u001b[1;32m      7\u001b[0m producer \u001b[38;5;241m=\u001b[39m kafkaProducer(csv_path, kafka_server, producer_id, topic, batch_interval)\n\u001b[0;32m----> 8\u001b[0m \u001b[43mproducer\u001b[49m\u001b[38;5;241;43m.\u001b[39;49m\u001b[43mproduce_batches\u001b[49m\u001b[43m(\u001b[49m\u001b[43m)\u001b[49m\n",
      "File \u001b[0;32m~/fit3182-a2/util.py:88\u001b[0m, in \u001b[0;36mkafkaProducer.produce_batches\u001b[0;34m(self)\u001b[0m\n\u001b[1;32m     86\u001b[0m     \u001b[38;5;28mprint\u001b[39m(\u001b[38;5;124mf\u001b[39m\u001b[38;5;124m\"\u001b[39m\u001b[38;5;124m[INFO] Batch #\u001b[39m\u001b[38;5;132;01m{\u001b[39;00mbatch_id\u001b[38;5;132;01m}\u001b[39;00m\u001b[38;5;124m sent. Sleeping \u001b[39m\u001b[38;5;132;01m{\u001b[39;00m\u001b[38;5;28mself\u001b[39m\u001b[38;5;241m.\u001b[39mbatch_interval\u001b[38;5;132;01m}\u001b[39;00m\u001b[38;5;124ms...\u001b[39m\u001b[38;5;124m\"\u001b[39m)\n\u001b[1;32m     87\u001b[0m     \u001b[38;5;28mprint\u001b[39m(\u001b[38;5;124mf\u001b[39m\u001b[38;5;124m\"\u001b[39m\u001b[38;5;124m[DATA] Batch #\u001b[39m\u001b[38;5;132;01m{\u001b[39;00mbatch_id\u001b[38;5;132;01m}\u001b[39;00m\u001b[38;5;124m:\u001b[39m\u001b[38;5;130;01m\\n\u001b[39;00m\u001b[38;5;132;01m{\u001b[39;00mbatch_df\u001b[38;5;132;01m}\u001b[39;00m\u001b[38;5;130;01m\\n\u001b[39;00m\u001b[38;5;124m\"\u001b[39m)\n\u001b[0;32m---> 88\u001b[0m     \u001b[43mtime\u001b[49m\u001b[38;5;241;43m.\u001b[39;49m\u001b[43msleep\u001b[49m\u001b[43m(\u001b[49m\u001b[38;5;28;43mself\u001b[39;49m\u001b[38;5;241;43m.\u001b[39;49m\u001b[43mbatch_interval\u001b[49m\u001b[43m)\u001b[49m\n\u001b[1;32m     90\u001b[0m \u001b[38;5;66;03m# Loop has finished\u001b[39;00m\n\u001b[1;32m     91\u001b[0m \u001b[38;5;28mself\u001b[39m\u001b[38;5;241m.\u001b[39mproducer\u001b[38;5;241m.\u001b[39mflush()\n",
      "\u001b[0;31mKeyboardInterrupt\u001b[0m: "
     ]
    }
   ],
   "source": [
    "csv_path=\"data/camera_event_b.csv\"\n",
    "kafka_server=\"172.17.0.1:9092\"\n",
    "producer_id=\"producer_b\"\n",
    "topic=\"camera_event_b\"\n",
    "batch_interval=5\n",
    "\n",
    "producer = kafkaProducer(csv_path, kafka_server, producer_id, topic, batch_interval)\n",
    "producer.produce_batches()"
   ]
  }
 ],
 "metadata": {
  "kernelspec": {
   "display_name": "Python 3 (ipykernel)",
   "language": "python",
   "name": "python3"
  }
 },
 "nbformat": 4,
 "nbformat_minor": 2
}
