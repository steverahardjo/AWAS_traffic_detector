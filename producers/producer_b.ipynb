{
 "cells": [
  {
   "cell_type": "code",
   "execution_count": null,
   "metadata": {},
   "outputs": [
    {
     "name": "stdout",
     "output_type": "stream",
     "text": [
      "[INFO] Successfully loaded data from data/camera_event_B.csv\n",
      "[INFO] Successfully connected to Kafka at 172.22.32.1\n",
      "[INFO] Publishing batch #1 (5 records)...\n",
      "[WARN] Failed to send event b5b7dae7-3bf9-4f75-aea8-398d3bde3a41: KafkaTimeoutError: Failed to update metadata after 60.0 secs.\n"
     ]
    }
   ],
   "source": [
    "b_file=\"data/camera_event_B.csv\"\n",
    "from util import kafkaProducer\n",
    "producer_B=kafkaProducer(b_file, \"KAFKA_SERVER\", \"B\", \"cameraB\", 5)\n",
    "producer_B.produce_batches()\n"
   ]
  }
 ],
 "metadata": {
  "kernelspec": {
   "display_name": "Python 3 (ipykernel)",
   "language": "python",
   "name": "python3"
  },
  "language_info": {
   "codemirror_mode": {
    "name": "ipython",
    "version": 3
   },
   "file_extension": ".py",
   "mimetype": "text/x-python",
   "name": "python",
   "nbconvert_exporter": "python",
   "pygments_lexer": "ipython3",
   "version": "3.8.16"
  }
 },
 "nbformat": 4,
 "nbformat_minor": 2
}
